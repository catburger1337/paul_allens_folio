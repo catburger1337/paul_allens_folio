{
  "nbformat": 4,
  "nbformat_minor": 0,
  "metadata": {
    "colab": {
      "provenance": [],
      "authorship_tag": "ABX9TyMRLLv9HAEgBfxdnIBN4azl",
      "include_colab_link": true
    },
    "kernelspec": {
      "name": "python3",
      "display_name": "Python 3"
    },
    "language_info": {
      "name": "python"
    }
  },
  "cells": [
    {
      "cell_type": "markdown",
      "metadata": {
        "id": "view-in-github",
        "colab_type": "text"
      },
      "source": [
        "<a href=\"https://colab.research.google.com/github/catburger1337/paul_allens_folio/blob/main/QxQ_Capstone_Quantum_Encrypt_QKD.ipynb\" target=\"_parent\"><img src=\"https://colab.research.google.com/assets/colab-badge.svg\" alt=\"Open In Colab\"/></a>"
      ]
    },
    {
      "cell_type": "markdown",
      "source": [
        "---\n",
        "**Capstone Project - Quantum encryption in Python with Quantum Key Distribution (QKD)**\n",
        "---\n",
        "Message: \"*Lets eat some chocolate ice cream*\""
      ],
      "metadata": {
        "id": "yU-5_DSD1rXQ"
      }
    },
    {
      "cell_type": "code",
      "execution_count": 1,
      "metadata": {
        "id": "6zlK4kj11hgW",
        "colab": {
          "base_uri": "https://localhost:8080/"
        },
        "outputId": "c03ee0ed-c481-442c-caab-ac44c1c4918b"
      },
      "outputs": [
        {
          "output_type": "stream",
          "name": "stdout",
          "text": [
            "\u001b[2K     \u001b[90m━━━━━━━━━━━━━━━━━━━━━━━━━━━━━━━━━━━━━━━━\u001b[0m \u001b[32m1.9/1.9 MB\u001b[0m \u001b[31m7.1 MB/s\u001b[0m eta \u001b[36m0:00:00\u001b[0m\n",
            "\u001b[2K     \u001b[90m━━━━━━━━━━━━━━━━━━━━━━━━━━━━━━━━━━━━━━━━\u001b[0m \u001b[32m532.7/532.7 kB\u001b[0m \u001b[31m9.0 MB/s\u001b[0m eta \u001b[36m0:00:00\u001b[0m\n",
            "\u001b[2K     \u001b[90m━━━━━━━━━━━━━━━━━━━━━━━━━━━━━━━━━━━━━━━━\u001b[0m \u001b[32m60.5/60.5 kB\u001b[0m \u001b[31m1.1 MB/s\u001b[0m eta \u001b[36m0:00:00\u001b[0m\n",
            "\u001b[2K     \u001b[90m━━━━━━━━━━━━━━━━━━━━━━━━━━━━━━━━━━━━━━━━\u001b[0m \u001b[32m66.2/66.2 kB\u001b[0m \u001b[31m3.1 MB/s\u001b[0m eta \u001b[36m0:00:00\u001b[0m\n",
            "\u001b[2K     \u001b[90m━━━━━━━━━━━━━━━━━━━━━━━━━━━━━━━━━━━━━━━━\u001b[0m \u001b[32m596.5/596.5 kB\u001b[0m \u001b[31m10.3 MB/s\u001b[0m eta \u001b[36m0:00:00\u001b[0m\n",
            "\u001b[2K     \u001b[90m━━━━━━━━━━━━━━━━━━━━━━━━━━━━━━━━━━━━━━━━\u001b[0m \u001b[32m223.8/223.8 kB\u001b[0m \u001b[31m8.0 MB/s\u001b[0m eta \u001b[36m0:00:00\u001b[0m\n",
            "\u001b[2K     \u001b[90m━━━━━━━━━━━━━━━━━━━━━━━━━━━━━━━━━━━━━━━━\u001b[0m \u001b[32m229.9/229.9 kB\u001b[0m \u001b[31m9.1 MB/s\u001b[0m eta \u001b[36m0:00:00\u001b[0m\n",
            "\u001b[?25h  Preparing metadata (setup.py) ... \u001b[?25l\u001b[?25hdone\n",
            "\u001b[2K     \u001b[90m━━━━━━━━━━━━━━━━━━━━━━━━━━━━━━━━━━━━━━━━\u001b[0m \u001b[32m151.7/151.7 kB\u001b[0m \u001b[31m10.8 MB/s\u001b[0m eta \u001b[36m0:00:00\u001b[0m\n",
            "\u001b[2K     \u001b[90m━━━━━━━━━━━━━━━━━━━━━━━━━━━━━━━━━━━━━━━━\u001b[0m \u001b[32m45.6/45.6 kB\u001b[0m \u001b[31m2.7 MB/s\u001b[0m eta \u001b[36m0:00:00\u001b[0m\n",
            "\u001b[?25h  Preparing metadata (setup.py) ... \u001b[?25l\u001b[?25hdone\n",
            "\u001b[2K     \u001b[90m━━━━━━━━━━━━━━━━━━━━━━━━━━━━━━━━━━━━━━━━\u001b[0m \u001b[32m60.6/60.6 kB\u001b[0m \u001b[31m6.5 MB/s\u001b[0m eta \u001b[36m0:00:00\u001b[0m\n",
            "\u001b[2K     \u001b[90m━━━━━━━━━━━━━━━━━━━━━━━━━━━━━━━━━━━━━━━━\u001b[0m \u001b[32m71.5/71.5 kB\u001b[0m \u001b[31m1.6 MB/s\u001b[0m eta \u001b[36m0:00:00\u001b[0m\n",
            "\u001b[2K     \u001b[90m━━━━━━━━━━━━━━━━━━━━━━━━━━━━━━━━━━━━━━━━\u001b[0m \u001b[32m3.1/3.1 MB\u001b[0m \u001b[31m19.4 MB/s\u001b[0m eta \u001b[36m0:00:00\u001b[0m\n",
            "\u001b[2K     \u001b[90m━━━━━━━━━━━━━━━━━━━━━━━━━━━━━━━━━━━━━━━━\u001b[0m \u001b[32m1.7/1.7 MB\u001b[0m \u001b[31m26.2 MB/s\u001b[0m eta \u001b[36m0:00:00\u001b[0m\n",
            "\u001b[2K     \u001b[90m━━━━━━━━━━━━━━━━━━━━━━━━━━━━━━━━━━━━━━━━\u001b[0m \u001b[32m117.8/117.8 kB\u001b[0m \u001b[31m13.8 MB/s\u001b[0m eta \u001b[36m0:00:00\u001b[0m\n",
            "\u001b[2K     \u001b[90m━━━━━━━━━━━━━━━━━━━━━━━━━━━━━━━━━━━━━━━━\u001b[0m \u001b[32m69.6/69.6 kB\u001b[0m \u001b[31m7.1 MB/s\u001b[0m eta \u001b[36m0:00:00\u001b[0m\n",
            "\u001b[2K     \u001b[90m━━━━━━━━━━━━━━━━━━━━━━━━━━━━━━━━━━━━━━━━\u001b[0m \u001b[32m526.7/526.7 kB\u001b[0m \u001b[31m20.9 MB/s\u001b[0m eta \u001b[36m0:00:00\u001b[0m\n",
            "\u001b[2K     \u001b[90m━━━━━━━━━━━━━━━━━━━━━━━━━━━━━━━━━━━━━━━━\u001b[0m \u001b[32m58.3/58.3 kB\u001b[0m \u001b[31m7.0 MB/s\u001b[0m eta \u001b[36m0:00:00\u001b[0m\n",
            "\u001b[?25h  Building wheel for lark (setup.py) ... \u001b[?25l\u001b[?25hdone\n",
            "  Building wheel for rpcq (setup.py) ... \u001b[?25l\u001b[?25hdone\n",
            "\u001b[31mERROR: pip's dependency resolver does not currently take into account all the packages that are installed. This behaviour is the source of the following dependency conflicts.\n",
            "jsonschema 4.19.2 requires attrs>=22.2.0, but you have attrs 21.4.0 which is incompatible.\n",
            "referencing 0.35.1 requires attrs>=22.2.0, but you have attrs 21.4.0 which is incompatible.\u001b[0m\u001b[31m\n",
            "\u001b[0m"
          ]
        }
      ],
      "source": [
        "#@title\n",
        "!pip install cirq --quiet\n",
        "import cirq\n",
        "import math\n",
        "import binascii\n",
        "import numpy as np\n",
        "from random import choices\n",
        "def binary_labels(num_qubits):\n",
        "    return [bin(x)[2:].zfill(num_qubits) for x in range(2 ** num_qubits)]"
      ]
    },
    {
      "cell_type": "code",
      "source": [
        "message = \"type here\"\n",
        "#Type your message here inside quotation marks."
      ],
      "metadata": {
        "id": "_n_dhgZQm5Pp"
      },
      "execution_count": 3,
      "outputs": []
    },
    {
      "cell_type": "code",
      "source": [
        "encode_gates = {0: cirq.I, 1: cirq.X}\n",
        "basis_gates = {'Z': cirq.I, 'X': cirq.H}\n"
      ],
      "metadata": {
        "id": "2JHZC3lx3dOd"
      },
      "execution_count": 4,
      "outputs": []
    },
    {
      "cell_type": "markdown",
      "source": [
        "---\n",
        "**key_size(message)**\n",
        "---"
      ],
      "metadata": {
        "id": "HNb3j5AmeeJX"
      }
    },
    {
      "cell_type": "code",
      "source": [
        "def key_size(message):\n",
        "  binary_string = \" \".join(f\"{ord(i):08b}\" for i in message)\n",
        "\n",
        "  count_ones = binary_string.count(\"1\")\n",
        "  count_zeros = binary_string.count(\"0\")\n",
        "  key_size.total_values = count_ones + count_zeros\n",
        "\n",
        "  key_size.num_bits = key_size.total_values / math.exp(math.log10(key_size.total_values))\n",
        "  key_size.num_bits = math.ceil(key_size.num_bits)\n",
        "\n",
        "  print('\\nTotal of numbers coded in binary:', key_size.total_values)\n",
        "  print('\\nThe generated key will have', key_size.num_bits, 'bits')"
      ],
      "metadata": {
        "id": "3otWju-86uVV"
      },
      "execution_count": 5,
      "outputs": []
    },
    {
      "cell_type": "code",
      "source": [
        "key_size(message)"
      ],
      "metadata": {
        "colab": {
          "base_uri": "https://localhost:8080/"
        },
        "id": "DhJUU8GYCLZg",
        "outputId": "26a6bccc-cefc-4744-d753-23bcfd247d82"
      },
      "execution_count": 6,
      "outputs": [
        {
          "output_type": "stream",
          "name": "stdout",
          "text": [
            "\n",
            "Total of numbers coded in binary: 72\n",
            "\n",
            "The generated key will have 12 bits\n"
          ]
        }
      ]
    },
    {
      "cell_type": "code",
      "source": [
        "key_size.num_bits\n",
        "qubits = cirq.NamedQubit.range(key_size.num_bits, prefix = 'q')\n",
        "qubits"
      ],
      "metadata": {
        "colab": {
          "base_uri": "https://localhost:8080/"
        },
        "id": "VQdSylpWJbrd",
        "outputId": "776d5e94-af89-4946-eb26-6018fc02813a"
      },
      "execution_count": 7,
      "outputs": [
        {
          "output_type": "execute_result",
          "data": {
            "text/plain": [
              "[cirq.NamedQubit('q0'),\n",
              " cirq.NamedQubit('q1'),\n",
              " cirq.NamedQubit('q2'),\n",
              " cirq.NamedQubit('q3'),\n",
              " cirq.NamedQubit('q4'),\n",
              " cirq.NamedQubit('q5'),\n",
              " cirq.NamedQubit('q6'),\n",
              " cirq.NamedQubit('q7'),\n",
              " cirq.NamedQubit('q8'),\n",
              " cirq.NamedQubit('q9'),\n",
              " cirq.NamedQubit('q10'),\n",
              " cirq.NamedQubit('q11')]"
            ]
          },
          "metadata": {},
          "execution_count": 7
        }
      ]
    },
    {
      "cell_type": "markdown",
      "source": [
        "---\n",
        "**encryption()**\n",
        "---"
      ],
      "metadata": {
        "id": "PG05jdzEwK3s"
      }
    },
    {
      "cell_type": "code",
      "source": [
        "def encryption():\n",
        "  encryption.sender_key = choices([0, 1], k = key_size.num_bits)\n",
        "  encryption.sender_bases = choices(['Z', 'X'], k = key_size.num_bits)\n",
        "  encryption.sender_circuit = cirq.Circuit()\n",
        "\n",
        "  for bit in range(key_size.num_bits):\n",
        "\n",
        "    encode_value = encryption.sender_key[bit]\n",
        "    encode_gate = encode_gates[encode_value]\n",
        "\n",
        "    basis_value = encryption.sender_bases[bit]\n",
        "    basis_gate = basis_gates[basis_value]\n",
        "\n",
        "    qubit = qubits[bit]\n",
        "    encryption.sender_circuit.append(encode_gate(qubit))\n",
        "    encryption.sender_circuit.append(basis_gate(qubit))\n",
        "\n",
        "  print('\\nAlice\\'s randomly chosen bases: ', encryption.sender_bases)\n",
        "  print('\\nAlice\\'s initial key: ', encryption.sender_key)\n",
        "  print('\\nAlice\\'s Phase 1 circuit:\\n', encryption.sender_circuit)"
      ],
      "metadata": {
        "id": "PLLSXWZxhzKL"
      },
      "execution_count": 8,
      "outputs": []
    },
    {
      "cell_type": "code",
      "source": [
        "encryption()"
      ],
      "metadata": {
        "colab": {
          "base_uri": "https://localhost:8080/"
        },
        "id": "L7e9fLghpK95",
        "outputId": "ef485f47-4511-490c-9464-ba3781aacad6"
      },
      "execution_count": 9,
      "outputs": [
        {
          "output_type": "stream",
          "name": "stdout",
          "text": [
            "\n",
            "Alice's randomly chosen bases:  ['Z', 'X', 'Z', 'Z', 'Z', 'X', 'X', 'X', 'X', 'X', 'X', 'Z']\n",
            "\n",
            "Alice's initial key:  [1, 0, 0, 1, 1, 0, 0, 0, 1, 0, 1, 0]\n",
            "\n",
            "Alice's Phase 1 circuit:\n",
            " q0: ────X───I───\n",
            "\n",
            "q1: ────I───H───\n",
            "\n",
            "q2: ────I───I───\n",
            "\n",
            "q3: ────X───I───\n",
            "\n",
            "q4: ────X───I───\n",
            "\n",
            "q5: ────I───H───\n",
            "\n",
            "q6: ────I───H───\n",
            "\n",
            "q7: ────I───H───\n",
            "\n",
            "q8: ────X───H───\n",
            "\n",
            "q9: ────I───H───\n",
            "\n",
            "q10: ───X───H───\n",
            "\n",
            "q11: ───I───I───\n"
          ]
        }
      ]
    },
    {
      "cell_type": "markdown",
      "source": [
        "---\n",
        "**decryption()**\n",
        "---"
      ],
      "metadata": {
        "id": "B4M-trb9xER4"
      }
    },
    {
      "cell_type": "code",
      "source": [
        "def decryption():\n",
        "  decryption.receiver_bases = choices(['Z', 'X'], k = key_size.num_bits)\n",
        "  receiver_circuit = cirq.Circuit()\n",
        "\n",
        "  for bit in range(key_size.num_bits):\n",
        "\n",
        "    basis_value = decryption.receiver_bases[bit]\n",
        "    basis_gate = basis_gates[basis_value]\n",
        "\n",
        "    qubit = qubits[bit]\n",
        "    receiver_circuit.append(basis_gate(qubit))\n",
        "\n",
        "  receiver_circuit.append(cirq.measure(qubits, key = 'receiver key'))\n",
        "\n",
        "  bb84_circuit = encryption.sender_circuit + receiver_circuit\n",
        "\n",
        "  sim = cirq.Simulator()\n",
        "  results = sim.run(bb84_circuit)\n",
        "  decryption.receiver_key = results.measurements['receiver key'][0]\n",
        "\n",
        "\n",
        "  print('Bob\\'s randomly chosen bases: ', decryption.receiver_bases)\n",
        "  print('Bob\\'s initial key: ', decryption.receiver_key)\n",
        "  print('Bob\\'s Phase 2 circuit:\\n', receiver_circuit)"
      ],
      "metadata": {
        "id": "4HUTzotkxIFN"
      },
      "execution_count": 10,
      "outputs": []
    },
    {
      "cell_type": "code",
      "source": [
        "decryption()"
      ],
      "metadata": {
        "colab": {
          "base_uri": "https://localhost:8080/"
        },
        "id": "CJo_bPuvza-o",
        "outputId": "69de3639-279f-4437-9874-e4b74673aea2"
      },
      "execution_count": 11,
      "outputs": [
        {
          "output_type": "stream",
          "name": "stdout",
          "text": [
            "Bob's randomly chosen bases:  ['X', 'X', 'Z', 'X', 'Z', 'X', 'X', 'X', 'X', 'X', 'Z', 'X']\n",
            "Bob's initial key:  [1 0 0 0 1 0 0 0 1 0 1 1]\n",
            "Bob's Phase 2 circuit:\n",
            " q0: ────H───M('receiver key')───\n",
            "            │\n",
            "q1: ────H───M───────────────────\n",
            "            │\n",
            "q2: ────I───M───────────────────\n",
            "            │\n",
            "q3: ────H───M───────────────────\n",
            "            │\n",
            "q4: ────I───M───────────────────\n",
            "            │\n",
            "q5: ────H───M───────────────────\n",
            "            │\n",
            "q6: ────H───M───────────────────\n",
            "            │\n",
            "q7: ────H───M───────────────────\n",
            "            │\n",
            "q8: ────H───M───────────────────\n",
            "            │\n",
            "q9: ────H───M───────────────────\n",
            "            │\n",
            "q10: ───I───M───────────────────\n",
            "            │\n",
            "q11: ───H───M───────────────────\n"
          ]
        }
      ]
    },
    {
      "cell_type": "markdown",
      "source": [
        "---\n",
        "**Comparision of keys and reveal of message**\n",
        "---"
      ],
      "metadata": {
        "id": "x0cYB7b7xqEt"
      }
    },
    {
      "cell_type": "code",
      "source": [
        "final_sender_key = []\n",
        "final_receiver_key = []\n",
        "\n",
        "for bit in range(key_size.num_bits):\n",
        "\n",
        "  if encryption.sender_bases[bit] == decryption.receiver_bases[bit]:\n",
        "    final_sender_key.append(encryption.sender_key[bit])\n",
        "    final_receiver_key.append(decryption.receiver_key[bit])\n",
        "\n",
        "if final_sender_key[0] == final_receiver_key[0]:\n",
        "  final_alice_key = final_sender_key[1:]\n",
        "  final_bob_key = final_receiver_key[1:]\n",
        "\n",
        "\n",
        "  print('\\nAlice\\'s Key: ', final_sender_key)\n",
        "  print('\\nBob\\'s Key: ', final_receiver_key)\n",
        "  print('\\nWe can use our keys!')\n",
        "  print('\\nMessage sent: ', message)\n",
        "\n",
        "else:\n",
        "  print('\\n\\nWe have a problem. Eve was listening.')"
      ],
      "metadata": {
        "colab": {
          "base_uri": "https://localhost:8080/"
        },
        "id": "ECOMQiMlxvfp",
        "outputId": "64819899-570d-4710-b24f-f87f8029aff4"
      },
      "execution_count": 12,
      "outputs": [
        {
          "output_type": "stream",
          "name": "stdout",
          "text": [
            "\n",
            "Alice's Key:  [0, 0, 1, 0, 0, 0, 1, 0]\n",
            "\n",
            "Bob's Key:  [0, 0, 1, 0, 0, 0, 1, 0]\n",
            "\n",
            "We can use our keys!\n",
            "\n",
            "Message sent:  type here\n"
          ]
        }
      ]
    },
    {
      "cell_type": "markdown",
      "source": [
        "---\n",
        "**END**\n",
        "---"
      ],
      "metadata": {
        "id": "P4u-Tw-7y8TA"
      }
    }
  ]
}