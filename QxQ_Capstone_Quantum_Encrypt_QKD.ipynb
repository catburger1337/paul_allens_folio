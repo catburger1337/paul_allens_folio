{
  "nbformat": 4,
  "nbformat_minor": 0,
  "metadata": {
    "colab": {
      "provenance": [],
      "private_outputs": true,
      "authorship_tag": "ABX9TyMRLLv9HAEgBfxdnIBN4azl",
      "include_colab_link": true
    },
    "kernelspec": {
      "name": "python3",
      "display_name": "Python 3"
    },
    "language_info": {
      "name": "python"
    }
  },
  "cells": [
    {
      "cell_type": "markdown",
      "metadata": {
        "id": "view-in-github",
        "colab_type": "text"
      },
      "source": [
        "<a href=\"https://colab.research.google.com/github/catburger1337/paul_allens_folio/blob/main/QxQ_Capstone_Quantum_Encrypt_QKD.ipynb\" target=\"_parent\"><img src=\"https://colab.research.google.com/assets/colab-badge.svg\" alt=\"Open In Colab\"/></a>"
      ]
    },
    {
      "cell_type": "markdown",
      "source": [
        "---\n",
        "**Capstone Project - Quantum encryption in Python with Quantum Key Distribution (QKD)**\n",
        "---\n",
        "Message: \"*Lets eat some chocolate ice cream*\""
      ],
      "metadata": {
        "id": "yU-5_DSD1rXQ"
      }
    },
    {
      "cell_type": "code",
      "execution_count": null,
      "metadata": {
        "id": "6zlK4kj11hgW"
      },
      "outputs": [],
      "source": [
        "#@title\n",
        "!pip install cirq --quiet\n",
        "import cirq\n",
        "import math\n",
        "import binascii\n",
        "import numpy as np\n",
        "from random import choices\n",
        "def binary_labels(num_qubits):\n",
        "    return [bin(x)[2:].zfill(num_qubits) for x in range(2 ** num_qubits)]"
      ]
    },
    {
      "cell_type": "code",
      "source": [
        "message = \"type here\"\n",
        "#Type your message here inside quotation marks."
      ],
      "metadata": {
        "id": "_n_dhgZQm5Pp"
      },
      "execution_count": null,
      "outputs": []
    },
    {
      "cell_type": "code",
      "source": [
        "encode_gates = {0: cirq.I, 1: cirq.X}\n",
        "basis_gates = {'Z': cirq.I, 'X': cirq.H}\n"
      ],
      "metadata": {
        "id": "2JHZC3lx3dOd"
      },
      "execution_count": null,
      "outputs": []
    },
    {
      "cell_type": "markdown",
      "source": [
        "---\n",
        "**key_size(message)**\n",
        "---"
      ],
      "metadata": {
        "id": "HNb3j5AmeeJX"
      }
    },
    {
      "cell_type": "code",
      "source": [
        "def key_size(message):\n",
        "  binary_string = \" \".join(f\"{ord(i):08b}\" for i in message)\n",
        "\n",
        "  count_ones = binary_string.count(\"1\")\n",
        "  count_zeros = binary_string.count(\"0\")\n",
        "  key_size.total_values = count_ones + count_zeros\n",
        "\n",
        "  key_size.num_bits = key_size.total_values / math.exp(math.log10(key_size.total_values))\n",
        "  key_size.num_bits = math.ceil(key_size.num_bits)\n",
        "\n",
        "  print('\\nTotal of numbers coded in binary:', key_size.total_values)\n",
        "  print('\\nThe generated key will have', key_size.num_bits, 'bits')"
      ],
      "metadata": {
        "id": "3otWju-86uVV"
      },
      "execution_count": null,
      "outputs": []
    },
    {
      "cell_type": "code",
      "source": [
        "key_size(message)"
      ],
      "metadata": {
        "id": "DhJUU8GYCLZg"
      },
      "execution_count": null,
      "outputs": []
    },
    {
      "cell_type": "code",
      "source": [
        "key_size.num_bits\n",
        "qubits = cirq.NamedQubit.range(key_size.num_bits, prefix = 'q')\n",
        "qubits"
      ],
      "metadata": {
        "id": "VQdSylpWJbrd"
      },
      "execution_count": null,
      "outputs": []
    },
    {
      "cell_type": "markdown",
      "source": [
        "---\n",
        "**encryption()**\n",
        "---"
      ],
      "metadata": {
        "id": "PG05jdzEwK3s"
      }
    },
    {
      "cell_type": "code",
      "source": [
        "def encryption():\n",
        "  encryption.sender_key = choices([0, 1], k = key_size.num_bits)\n",
        "  encryption.sender_bases = choices(['Z', 'X'], k = key_size.num_bits)\n",
        "  encryption.sender_circuit = cirq.Circuit()\n",
        "\n",
        "  for bit in range(key_size.num_bits):\n",
        "\n",
        "    encode_value = encryption.sender_key[bit]\n",
        "    encode_gate = encode_gates[encode_value]\n",
        "\n",
        "    basis_value = encryption.sender_bases[bit]\n",
        "    basis_gate = basis_gates[basis_value]\n",
        "\n",
        "    qubit = qubits[bit]\n",
        "    encryption.sender_circuit.append(encode_gate(qubit))\n",
        "    encryption.sender_circuit.append(basis_gate(qubit))\n",
        "\n",
        "  print('\\nAlice\\'s randomly chosen bases: ', encryption.sender_bases)\n",
        "  print('\\nAlice\\'s initial key: ', encryption.sender_key)\n",
        "  print('\\nAlice\\'s Phase 1 circuit:\\n', encryption.sender_circuit)"
      ],
      "metadata": {
        "id": "PLLSXWZxhzKL"
      },
      "execution_count": null,
      "outputs": []
    },
    {
      "cell_type": "code",
      "source": [
        "encryption()"
      ],
      "metadata": {
        "id": "L7e9fLghpK95"
      },
      "execution_count": null,
      "outputs": []
    },
    {
      "cell_type": "markdown",
      "source": [
        "---\n",
        "**decryption()**\n",
        "---"
      ],
      "metadata": {
        "id": "B4M-trb9xER4"
      }
    },
    {
      "cell_type": "code",
      "source": [
        "def decryption():\n",
        "  decryption.receiver_bases = choices(['Z', 'X'], k = key_size.num_bits)\n",
        "  receiver_circuit = cirq.Circuit()\n",
        "\n",
        "  for bit in range(key_size.num_bits):\n",
        "\n",
        "    basis_value = decryption.receiver_bases[bit]\n",
        "    basis_gate = basis_gates[basis_value]\n",
        "\n",
        "    qubit = qubits[bit]\n",
        "    receiver_circuit.append(basis_gate(qubit))\n",
        "\n",
        "  receiver_circuit.append(cirq.measure(qubits, key = 'receiver key'))\n",
        "\n",
        "  bb84_circuit = encryption.sender_circuit + receiver_circuit\n",
        "\n",
        "  sim = cirq.Simulator()\n",
        "  results = sim.run(bb84_circuit)\n",
        "  decryption.receiver_key = results.measurements['receiver key'][0]\n",
        "\n",
        "\n",
        "  print('Bob\\'s randomly chosen bases: ', decryption.receiver_bases)\n",
        "  print('Bob\\'s initial key: ', decryption.receiver_key)\n",
        "  print('Bob\\'s Phase 2 circuit:\\n', receiver_circuit)"
      ],
      "metadata": {
        "id": "4HUTzotkxIFN"
      },
      "execution_count": null,
      "outputs": []
    },
    {
      "cell_type": "code",
      "source": [
        "decryption()"
      ],
      "metadata": {
        "id": "CJo_bPuvza-o"
      },
      "execution_count": null,
      "outputs": []
    },
    {
      "cell_type": "markdown",
      "source": [
        "---\n",
        "**Comparision of keys and reveal of message**\n",
        "---"
      ],
      "metadata": {
        "id": "x0cYB7b7xqEt"
      }
    },
    {
      "cell_type": "code",
      "source": [
        "final_sender_key = []\n",
        "final_receiver_key = []\n",
        "\n",
        "for bit in range(key_size.num_bits):\n",
        "\n",
        "  if encryption.sender_bases[bit] == decryption.receiver_bases[bit]:\n",
        "    final_sender_key.append(encryption.sender_key[bit])\n",
        "    final_receiver_key.append(decryption.receiver_key[bit])\n",
        "\n",
        "if final_sender_key[0] == final_receiver_key[0]:\n",
        "  final_alice_key = final_sender_key[1:]\n",
        "  final_bob_key = final_receiver_key[1:]\n",
        "\n",
        "\n",
        "  print('\\nAlice\\'s Key: ', final_sender_key)\n",
        "  print('\\nBob\\'s Key: ', final_receiver_key)\n",
        "  print('\\nWe can use our keys!')\n",
        "  print('\\nMessage sent: ', message)\n",
        "\n",
        "else:\n",
        "  print('\\n\\nWe have a problem. Eve was listening.')"
      ],
      "metadata": {
        "id": "ECOMQiMlxvfp"
      },
      "execution_count": null,
      "outputs": []
    },
    {
      "cell_type": "markdown",
      "source": [
        "---\n",
        "**END**\n",
        "---"
      ],
      "metadata": {
        "id": "P4u-Tw-7y8TA"
      }
    }
  ]
}